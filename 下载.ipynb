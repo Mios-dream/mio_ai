{
 "cells": [
  {
   "cell_type": "code",
   "execution_count": null,
   "id": "1bc68e18-1aa1-4ba9-a587-184dab1b5a0d",
   "metadata": {
    "tags": []
   },
   "outputs": [],
   "source": [
    "!pip install modelscope"
   ]
  },
  {
   "cell_type": "code",
   "execution_count": null,
   "id": "8c607ec7-f62f-4abd-a1fb-39c358208658",
   "metadata": {
    "tags": []
   },
   "outputs": [],
   "source": [
    "pwd"
   ]
  },
  {
   "cell_type": "code",
   "execution_count": null,
   "id": "e79ee454-fad1-47b1-bb73-cd61467193f0",
   "metadata": {
    "tags": []
   },
   "outputs": [],
   "source": [
    "#chatglm2模型下载\n",
    "from modelscope import snapshot_download\n",
    "model_dir = snapshot_download('ZhipuAI/chatglm2-6b',cache_dir='/root/autodl-tmp/LLaMA-Factory/mode')"
   ]
  },
  {
   "cell_type": "code",
   "execution_count": null,
   "id": "e9a5ca22-5421-4ac8-9845-aaae7b066057",
   "metadata": {},
   "outputs": [],
   "source": [
    "#yi34b模型下载\n",
    "from modelscope import snapshot_download\n",
    "model_dir = snapshot_download('01ai/Yi-34B-Chat',cache_dir='/root/autodl-tmp/LLaMA-Factory/mode')"
   ]
  },
  {
   "cell_type": "code",
   "execution_count": null,
   "id": "28ee4f8a-73ab-427c-9bfe-94ecc5a97c77",
   "metadata": {
    "tags": []
   },
   "outputs": [],
   "source": [
    "#千问\n",
    "#模型下载\n",
    "from modelscope import snapshot_download\n",
    "model_dir = snapshot_download('qwen/Qwen1.5-7B-Chat',cache_dir='/root/autodl-tmp/LLaMA-Factory/mode')"
   ]
  },
  {
   "cell_type": "code",
   "execution_count": null,
   "id": "d9ed708b-97a7-48cd-a65b-a35f41f3cbe6",
   "metadata": {
    "tags": []
   },
   "outputs": [],
   "source": [
    "#启动webui\n",
    "!CUDA_VISIBLE_DEVICES=0 python src/train_web.py"
   ]
  },
  {
   "cell_type": "code",
   "execution_count": null,
   "id": "c6e410e9-b32e-4270-a3bf-6a767eaa27cb",
   "metadata": {
    "tags": []
   },
   "outputs": [],
   "source": [
    "#一键删除\n",
    "for index in range(100,2000,100):\n",
    "    !rm -rf checkpoint-{index}"
   ]
  },
  {
   "cell_type": "code",
   "execution_count": null,
   "id": "28db91ad-0dcb-48c0-83cc-d1faf4528f0f",
   "metadata": {},
   "outputs": [],
   "source": []
  }
 ],
 "metadata": {
  "kernelspec": {
   "display_name": "Python 3 (ipykernel)",
   "language": "python",
   "name": "python3"
  },
  "language_info": {
   "codemirror_mode": {
    "name": "ipython",
    "version": 3
   },
   "file_extension": ".py",
   "mimetype": "text/x-python",
   "name": "python",
   "nbconvert_exporter": "python",
   "pygments_lexer": "ipython3",
   "version": "3.8.10"
  }
 },
 "nbformat": 4,
 "nbformat_minor": 5
}
